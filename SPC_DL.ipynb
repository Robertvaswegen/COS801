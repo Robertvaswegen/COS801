{
  "nbformat": 4,
  "nbformat_minor": 0,
  "metadata": {
    "colab": {
      "provenance": [],
      "authorship_tag": "ABX9TyNxCr+6OST/8hoGnnGIRsyO",
      "include_colab_link": true
    },
    "kernelspec": {
      "name": "python3",
      "display_name": "Python 3"
    },
    "language_info": {
      "name": "python"
    }
  },
  "cells": [
    {
      "cell_type": "markdown",
      "metadata": {
        "id": "view-in-github",
        "colab_type": "text"
      },
      "source": [
        "<a href=\"https://colab.research.google.com/github/Robertvaswegen/COS801/blob/main/SPC_DL.ipynb\" target=\"_parent\"><img src=\"https://colab.research.google.com/assets/colab-badge.svg\" alt=\"Open In Colab\"/></a>"
      ]
    },
    {
      "cell_type": "code",
      "source": [
        "import numpy as np\n",
        "import matplotlib.pyplot as plt\n",
        "import os\n",
        "from google.colab import drive\n",
        "\n",
        "# Step 1: Mount Google Drive\n",
        "drive.mount('/content/drive')"
      ],
      "metadata": {
        "colab": {
          "base_uri": "https://localhost:8080/"
        },
        "id": "1lBAyzQu-wuC",
        "outputId": "f0a07d7f-0ef8-45fd-c12f-648ef1e6adb0"
      },
      "execution_count": 1,
      "outputs": [
        {
          "output_type": "stream",
          "name": "stdout",
          "text": [
            "Mounted at /content/drive\n"
          ]
        }
      ]
    },
    {
      "cell_type": "code",
      "source": [
        "import numpy as np\n",
        "import matplotlib.pyplot as plt\n",
        "import os\n",
        "from google.colab import drive\n",
        "\n",
        "# Step 1: Mount Google Drive\n",
        "drive.mount('/content/drive')\n",
        "\n",
        "# Create a folder in your Google Drive to save the images\n",
        "output_folder = '/content/drive/MyDrive/SPC_Charts'\n",
        "os.makedirs(output_folder, exist_ok=True)  # Create the folder if it doesn't exist\n",
        "\n",
        "# Function to generate and save SPC chart\n",
        "def create_spc_chart(data, mu, sigma, status, chart_type, img_name):\n",
        "    UCL = mu + 3 * sigma\n",
        "    LCL = mu - 3 * sigma\n",
        "\n",
        "    plt.figure(figsize=(10, 6))\n",
        "    plt.plot(data, marker='o', label=f'SPC Data ({chart_type})')\n",
        "    plt.axhline(UCL, color='r', linestyle='--', label='UCL (Upper Control Limit)')\n",
        "    plt.axhline(mu, color='g', linestyle='-', label='Mean')\n",
        "    plt.axhline(LCL, color='r', linestyle='--', label='LCL (Lower Control Limit)')\n",
        "\n",
        "    plt.title(f'SPC Chart\\nμ={mu:.2f}, σ²={sigma**2:.2f}, Status={status}')\n",
        "    plt.xlabel('Observation')\n",
        "    plt.ylabel('Value')\n",
        "    plt.legend()\n",
        "    plt.grid(True)\n",
        "\n",
        "    # Save the image with the parameters in the file name\n",
        "    file_path = os.path.join(output_folder, img_name)\n",
        "    plt.savefig(file_path, format='png', bbox_inches='tight')\n",
        "    plt.close('all')  # Clear the figure after saving\n",
        "\n",
        "# Step 2: Define 100 sets of parameters (mu and variance)\n",
        "np.random.seed(18014519)  # For reproducibility\n",
        "num_params = 100\n",
        "means = np.linspace(-5, 5, num_params)  # Means linearly spaced between -5 and 5\n",
        "variances = np.linspace(0.5, 2, num_params)  # Variances linearly spaced between 0.5 and 2\n",
        "\n",
        "# Step 3: Generate 1000 SPC charts (500 in control, 500 out of control), processed in batches\n",
        "batch_size = 100  # Process 100 charts at a time\n",
        "total_charts = 1000  # Total number of charts to generate\n",
        "\n",
        "for batch in range(0, total_charts, batch_size):\n",
        "    for i in range(batch, min(batch + batch_size, total_charts)):\n",
        "        # Pick a random set of parameters for in-control and out-of-control charts\n",
        "        param_idx = np.random.choice(num_params)\n",
        "        mu = means[param_idx]\n",
        "        sigma = np.sqrt(variances[param_idx])\n",
        "\n",
        "        # In-Control Data: Points are within control limits\n",
        "        in_control_data = np.random.normal(mu, sigma, 500)\n",
        "        # Save the in-control chart with parameters in the filename\n",
        "        img_name_in_control = f'IC_mu{mu:.2f}_sigma{sigma:.2f}_status1_{i}.png'\n",
        "        create_spc_chart(in_control_data, mu, sigma, status=1, chart_type='In-Control', img_name=img_name_in_control)\n",
        "\n",
        "        # Out-of-Control Data: Some points exceed control limits (add drift)\n",
        "        out_of_control_data = np.random.normal(mu, sigma, 500)\n",
        "        # Introduce an upward shift to push some points beyond UCL\n",
        "        out_of_control_data[::50] += np.random.uniform(3 * sigma, 6 * sigma, 10)  # every 50th point out of control\n",
        "        # Save the out-of-control chart with parameters in the filename\n",
        "        img_name_out_control = f'OOC_mu{mu:.2f}_sigma{sigma:.2f}_status0_{i}.png'\n",
        "        create_spc_chart(out_of_control_data, mu, sigma, status=0, chart_type='Out-of-Control', img_name=img_name_out_control)\n",
        "\n",
        "    print(f'Batch {batch//batch_size + 1} of charts saved.')\n",
        "\n",
        "print(\"All SPC charts have been saved to your Google Drive folder.\")\n"
      ],
      "metadata": {
        "colab": {
          "base_uri": "https://localhost:8080/"
        },
        "id": "0wb1t8V2jwxM",
        "outputId": "0dc9445f-3002-432f-c1c5-3b4467103762"
      },
      "execution_count": null,
      "outputs": [
        {
          "output_type": "stream",
          "name": "stdout",
          "text": [
            "Drive already mounted at /content/drive; to attempt to forcibly remount, call drive.mount(\"/content/drive\", force_remount=True).\n",
            "Batch 1 of charts saved.\n",
            "Batch 2 of charts saved.\n",
            "Batch 3 of charts saved.\n",
            "Batch 4 of charts saved.\n",
            "Batch 5 of charts saved.\n",
            "Batch 6 of charts saved.\n",
            "Batch 7 of charts saved.\n",
            "Batch 8 of charts saved.\n",
            "Batch 9 of charts saved.\n",
            "Batch 10 of charts saved.\n",
            "All SPC charts have been saved to your Google Drive folder.\n"
          ]
        }
      ]
    },
    {
      "cell_type": "code",
      "source": [
        "\n",
        "\n",
        "# Count the number of files in the folder\n",
        "num_graphs = len([f for f in os.listdir(output_folder) if os.path.isfile(os.path.join(output_folder, f))])\n",
        "\n",
        "print(f\"There are {num_graphs} graphs in the folder '{output_folder}'.\")"
      ],
      "metadata": {
        "id": "wHdbuf4pmKp6"
      },
      "execution_count": null,
      "outputs": []
    },
    {
      "cell_type": "code",
      "source": [
        "import os\n",
        "import shutil\n",
        "\n",
        "# Define the base directory where your images are stored\n",
        "base_dir = '/content/drive/MyDrive/SPC_Charts'\n",
        "# Define the target directories for each class\n",
        "in_control_dir = os.path.join(base_dir, 'in_control')\n",
        "out_of_control_dir = os.path.join(base_dir, 'out_of_control')\n",
        "\n",
        "# Create the target directories if they don't exist\n",
        "os.makedirs(in_control_dir, exist_ok=True)\n",
        "os.makedirs(out_of_control_dir, exist_ok=True)\n",
        "\n",
        "# Go through each file in the base directory\n",
        "for filename in os.listdir(base_dir):\n",
        "    file_path = os.path.join(base_dir, filename)\n",
        "    # Check if the file is an image (skip if it's a folder)\n",
        "    if os.path.isfile(file_path) and filename.endswith(('.png', '.jpg', '.jpeg')):\n",
        "        # Determine class based on filename\n",
        "        if 'IC' in filename:\n",
        "            # Move to in_control folder\n",
        "            shutil.move(file_path, os.path.join(in_control_dir, filename))\n",
        "        elif 'OOC' in filename:\n",
        "            # Move to out_of_control folder\n",
        "            shutil.move(file_path, os.path.join(out_of_control_dir, filename))\n",
        "\n",
        "print(\"Files have been sorted into in_control and out_of_control folders.\")\n"
      ],
      "metadata": {
        "colab": {
          "base_uri": "https://localhost:8080/"
        },
        "id": "hNKYfBBytqz-",
        "outputId": "434f68a4-76a6-4e26-eb9f-28e0c79f2970"
      },
      "execution_count": null,
      "outputs": [
        {
          "output_type": "stream",
          "name": "stdout",
          "text": [
            "Files have been sorted into in_control and out_of_control folders.\n"
          ]
        }
      ]
    },
    {
      "cell_type": "code",
      "source": [
        "from collections import Counter\n",
        "\n",
        "data_path = '/content/drive/MyDrive/SPC_Charts'\n",
        "class_labels = []\n",
        "\n",
        "# Loop through filenames and assign class labels based on the names\n",
        "for fname in os.listdir(data_path):\n",
        "    if 'in_control' in fname.lower():\n",
        "        class_labels.append('IC')  # Label \"in_control\" as \"IC\"\n",
        "    elif 'out_of_control' in fname.lower():\n",
        "        class_labels.append('OOC')  # Label \"out_of_control\" as \"OOC\"\n",
        "\n",
        "# Count occurrences of each label\n",
        "class_counts = Counter(class_labels)\n",
        "print(f\"Class distribution: {class_counts}\")\n"
      ],
      "metadata": {
        "colab": {
          "base_uri": "https://localhost:8080/"
        },
        "id": "HZeo_I8cA8Ui",
        "outputId": "e8e04492-9078-4bdd-e737-09408bf4237e"
      },
      "execution_count": null,
      "outputs": [
        {
          "output_type": "stream",
          "name": "stdout",
          "text": [
            "Class distribution: Counter({'IC': 1, 'OOC': 1})\n"
          ]
        }
      ]
    },
    {
      "cell_type": "code",
      "source": [
        "from collections import Counter\n",
        "\n",
        "data_path = '/content/drive/MyDrive/SPC_Charts'\n",
        "class_labels = []\n",
        "\n",
        "# Loop through filenames and assign class labels based on the names\n",
        "for fname in os.listdir(data_path):\n",
        "    if 'in_control' in fname.lower():\n",
        "        class_labels.append('IC')  # Label \"in_control\" as \"IC\"\n",
        "    elif 'out_of_control' in fname.lower():\n",
        "        class_labels.append('OOC')  # Label \"out_of_control\" as \"OOC\"\n",
        "\n",
        "# Count occurrences of each label\n",
        "class_counts = Counter(class_labels)\n",
        "print(f\"Class distribution: {class_counts}\")\n",
        "\n",
        "from sklearn.model_selection import train_test_split\n",
        "from torchvision.datasets import ImageFolder\n",
        "from torchvision import transforms\n",
        "from torch.utils.data import DataLoader, Subset\n",
        "\n",
        "# Define transformations\n",
        "transform = transforms.Compose([\n",
        "    transforms.Resize((128, 128)),\n",
        "    transforms.ToTensor()\n",
        "])\n",
        "\n",
        "# Load dataset and manually label based on updated filename check\n",
        "dataset = ImageFolder(data_path, transform=transform)\n",
        "labels = [0 if 'in_control' in os.path.basename(path) else 1 for path, _ in dataset.samples]\n",
        "\n",
        "# Split data while maintaining class balance\n",
        "train_indices, test_indices = train_test_split(\n",
        "    range(len(labels)), test_size=0.4, stratify=labels, random_state=42\n",
        ")\n",
        "\n",
        "train_dataset = Subset(dataset, train_indices)\n",
        "test_dataset = Subset(dataset, test_indices)\n",
        "\n",
        "# Create DataLoaders\n",
        "train_loader = DataLoader(train_dataset, batch_size=32, shuffle=True)\n",
        "test_loader = DataLoader(test_dataset, batch_size=32, shuffle=False)\n"
      ],
      "metadata": {
        "colab": {
          "base_uri": "https://localhost:8080/"
        },
        "id": "wYeQNdxVzs20",
        "outputId": "cc552b26-2b13-4175-f595-c26c7a710b58"
      },
      "execution_count": 2,
      "outputs": [
        {
          "output_type": "stream",
          "name": "stdout",
          "text": [
            "Class distribution: Counter({'IC': 1, 'OOC': 1})\n"
          ]
        }
      ]
    },
    {
      "cell_type": "code",
      "source": [],
      "metadata": {
        "id": "rE8RERqG4RKT"
      },
      "execution_count": 2,
      "outputs": []
    },
    {
      "cell_type": "code",
      "source": [
        "import torch\n",
        "from torch.utils.data import DataLoader, random_split\n",
        "from torchvision import datasets, transforms\n",
        "from torch import nn, optim\n",
        "import torch.nn.functional as F\n",
        "from sklearn.metrics import accuracy_score, precision_score, recall_score, f1_score, confusion_matrix\n",
        "\n",
        "# Transform to resize and convert images to grayscale (optional) and flatten to 1D\n",
        "transform = transforms.Compose([\n",
        "    transforms.Resize((128, 128)),\n",
        "    transforms.Grayscale(),  # Convert to grayscale for a single channel\n",
        "    transforms.ToTensor(),\n",
        "    transforms.Lambda(lambda x: x.view(-1))  # Flatten the image to 1D\n",
        "])\n",
        "\n",
        "# Path to your dataset\n",
        "root_dir = '/content/drive/MyDrive/SPC_Charts'\n",
        "full_dataset = datasets.ImageFolder(root=root_dir, transform=transform)\n",
        "\n",
        "# Split the dataset\n",
        "train_size = int(0.7 * len(full_dataset))\n",
        "test_size = len(full_dataset) - train_size\n",
        "train_dataset, test_dataset = random_split(full_dataset, [train_size, test_size])\n",
        "\n",
        "# Create data loaders\n",
        "train_loader = DataLoader(train_dataset, batch_size=32, shuffle=True)\n",
        "test_loader = DataLoader(test_dataset, batch_size=32, shuffle=False)\n",
        "\n",
        "# Define 1D CNN\n",
        "class ControlChart1DCNN(nn.Module):\n",
        "    def __init__(self, num_classes=2):\n",
        "        super(ControlChart1DCNN, self).__init__()\n",
        "        self.conv1 = nn.Conv1d(1, 16, kernel_size=3, stride=1, padding=1)\n",
        "        self.conv2 = nn.Conv1d(16, 32, kernel_size=3, stride=1, padding=1)\n",
        "        self.pool = nn.MaxPool1d(kernel_size=2, stride=2)\n",
        "        self.fc1 = nn.Linear(32 * (128 * 128 // 4), 128)  # Adjusted based on flattening\n",
        "        self.fc2 = nn.Linear(128, num_classes)\n",
        "\n",
        "    def forward(self, x):\n",
        "        x = x.unsqueeze(1)  # Add channel dimension\n",
        "        x = self.pool(F.relu(self.conv1(x)))\n",
        "        x = self.pool(F.relu(self.conv2(x)))\n",
        "        x = x.view(x.size(0), -1)  # Flatten for fully connected layer\n",
        "        x = F.relu(self.fc1(x))\n",
        "        x = self.fc2(x)\n",
        "        return x\n",
        "\n",
        "# Device setup\n",
        "device = torch.device(\"cuda\" if torch.cuda.is_available() else \"cpu\")\n",
        "model = ControlChart1DCNN(num_classes=2).to(device)\n",
        "\n",
        "# Loss and optimizer\n",
        "criterion = nn.CrossEntropyLoss()\n",
        "optimizer = optim.Adam(model.parameters(), lr=0.001)\n",
        "\n",
        "# Training loop\n",
        "num_epochs = 5\n",
        "for epoch in range(num_epochs):\n",
        "    model.train()\n",
        "    running_loss = 0.0\n",
        "\n",
        "    for images, labels in train_loader:\n",
        "        images, labels = images.to(device), labels.to(device)\n",
        "\n",
        "        # Forward pass\n",
        "        outputs = model(images)\n",
        "        loss = criterion(outputs, labels)\n",
        "\n",
        "        # Backward and optimize\n",
        "        optimizer.zero_grad()\n",
        "        loss.backward()\n",
        "        optimizer.step()\n",
        "\n",
        "        running_loss += loss.item()\n",
        "\n",
        "    print(f'Epoch [{epoch+1}/{num_epochs}], Loss: {running_loss/len(train_loader):.4f}')\n",
        "\n",
        "print(\"Training complete.\")\n",
        "\n",
        "# Evaluation\n",
        "model.eval()\n",
        "all_labels = []\n",
        "all_preds = []\n",
        "\n",
        "with torch.no_grad():\n",
        "    for images, labels in test_loader:\n",
        "        images, labels = images.to(device), labels.to(device)\n",
        "        outputs = model(images)\n",
        "        _, preds = torch.max(outputs, 1)\n",
        "        all_labels.extend(labels.cpu().numpy())\n",
        "        all_preds.extend(preds.cpu().numpy())\n",
        "\n",
        "# Metrics\n",
        "accuracy = accuracy_score(all_labels, all_preds)\n",
        "precision = precision_score(all_labels, all_preds, average='weighted')\n",
        "recall = recall_score(all_labels, all_preds, average='weighted')\n",
        "f1 = f1_score(all_labels, all_preds, average='weighted')\n",
        "conf_matrix = confusion_matrix(all_labels, all_preds)\n",
        "\n",
        "print(f'Accuracy: {accuracy:.4f}')\n",
        "print(f'Precision: {precision:.4f}')\n",
        "print(f'Recall: {recall:.4f}')\n",
        "print(f'F1 Score: {f1:.4f}')\n",
        "print(\"Confusion Matrix:\")\n",
        "print(conf_matrix)\n"
      ],
      "metadata": {
        "colab": {
          "base_uri": "https://localhost:8080/"
        },
        "id": "9e3PDvE3BDPU",
        "outputId": "03826da3-7ee5-4730-cbc7-5307d4c3892f"
      },
      "execution_count": 4,
      "outputs": [
        {
          "output_type": "stream",
          "name": "stdout",
          "text": [
            "Epoch [1/5], Loss: 0.9106\n",
            "Epoch [2/5], Loss: 0.0579\n",
            "Epoch [3/5], Loss: 0.0285\n",
            "Epoch [4/5], Loss: 0.0208\n",
            "Epoch [5/5], Loss: 0.0177\n",
            "Training complete.\n",
            "Accuracy: 0.9848\n",
            "Precision: 0.9853\n",
            "Recall: 0.9848\n",
            "F1 Score: 0.9848\n",
            "Confusion Matrix:\n",
            "[[339   0]\n",
            " [ 10 311]]\n"
          ]
        }
      ]
    },
    {
      "cell_type": "code",
      "source": [
        "!pip install torchviz\n",
        "import torchviz\n",
        "\n",
        "# Assuming 'model' is your trained ControlChartCNN model\n",
        "# and 'images' is a sample input tensor from your test_loader\n",
        "\n",
        "# Get a sample input\n",
        "images, labels = next(iter(test_loader))\n",
        "images = images.to(device)\n",
        "\n",
        "# Create the visualization\n",
        "torchviz.make_dot(model(images), params=dict(model.named_parameters()))"
      ],
      "metadata": {
        "colab": {
          "base_uri": "https://localhost:8080/",
          "height": 1000
        },
        "id": "MiTkIzDJEFAi",
        "outputId": "009a4c92-1d77-4b2f-f696-a9610018a377"
      },
      "execution_count": 6,
      "outputs": [
        {
          "output_type": "stream",
          "name": "stdout",
          "text": [
            "Collecting torchviz\n",
            "  Downloading torchviz-0.0.2.tar.gz (4.9 kB)\n",
            "  Preparing metadata (setup.py) ... \u001b[?25l\u001b[?25hdone\n",
            "Requirement already satisfied: torch in /usr/local/lib/python3.10/dist-packages (from torchviz) (2.5.1+cu121)\n",
            "Requirement already satisfied: graphviz in /usr/local/lib/python3.10/dist-packages (from torchviz) (0.20.3)\n",
            "Requirement already satisfied: filelock in /usr/local/lib/python3.10/dist-packages (from torch->torchviz) (3.16.1)\n",
            "Requirement already satisfied: typing-extensions>=4.8.0 in /usr/local/lib/python3.10/dist-packages (from torch->torchviz) (4.12.2)\n",
            "Requirement already satisfied: networkx in /usr/local/lib/python3.10/dist-packages (from torch->torchviz) (3.4.2)\n",
            "Requirement already satisfied: jinja2 in /usr/local/lib/python3.10/dist-packages (from torch->torchviz) (3.1.4)\n",
            "Requirement already satisfied: fsspec in /usr/local/lib/python3.10/dist-packages (from torch->torchviz) (2024.10.0)\n",
            "Requirement already satisfied: sympy==1.13.1 in /usr/local/lib/python3.10/dist-packages (from torch->torchviz) (1.13.1)\n",
            "Requirement already satisfied: mpmath<1.4,>=1.1.0 in /usr/local/lib/python3.10/dist-packages (from sympy==1.13.1->torch->torchviz) (1.3.0)\n",
            "Requirement already satisfied: MarkupSafe>=2.0 in /usr/local/lib/python3.10/dist-packages (from jinja2->torch->torchviz) (3.0.2)\n",
            "Building wheels for collected packages: torchviz\n",
            "  Building wheel for torchviz (setup.py) ... \u001b[?25l\u001b[?25hdone\n",
            "  Created wheel for torchviz: filename=torchviz-0.0.2-py3-none-any.whl size=4132 sha256=061f9bb082f0df9fb5e40faf331cbdb6657c24d44467a38435ed4cd97d72bc53\n",
            "  Stored in directory: /root/.cache/pip/wheels/4c/97/88/a02973217949e0db0c9f4346d154085f4725f99c4f15a87094\n",
            "Successfully built torchviz\n",
            "Installing collected packages: torchviz\n",
            "Successfully installed torchviz-0.0.2\n"
          ]
        },
        {
          "output_type": "execute_result",
          "data": {
            "image/svg+xml": "<?xml version=\"1.0\" encoding=\"UTF-8\" standalone=\"no\"?>\n<!DOCTYPE svg PUBLIC \"-//W3C//DTD SVG 1.1//EN\"\n \"http://www.w3.org/Graphics/SVG/1.1/DTD/svg11.dtd\">\n<!-- Generated by graphviz version 2.43.0 (0)\n -->\n<!-- Title: %3 Pages: 1 -->\n<svg width=\"455pt\" height=\"864pt\"\n viewBox=\"0.00 0.00 455.24 864.00\" xmlns=\"http://www.w3.org/2000/svg\" xmlns:xlink=\"http://www.w3.org/1999/xlink\">\n<g id=\"graph0\" class=\"graph\" transform=\"scale(0.88 0.88) rotate(0) translate(4 981)\">\n<title>%3</title>\n<polygon fill=\"white\" stroke=\"transparent\" points=\"-4,4 -4,-981 515,-981 515,4 -4,4\"/>\n<!-- 139977903596272 -->\n<g id=\"node1\" class=\"node\">\n<title>139977903596272</title>\n<polygon fill=\"#caff70\" stroke=\"black\" points=\"334,-31 269,-31 269,0 334,0 334,-31\"/>\n<text text-anchor=\"middle\" x=\"301.5\" y=\"-7\" font-family=\"monospace\" font-size=\"10.00\"> (32, 2)</text>\n</g>\n<!-- 139977904180336 -->\n<g id=\"node2\" class=\"node\">\n<title>139977904180336</title>\n<polygon fill=\"lightgrey\" stroke=\"black\" points=\"352,-86 251,-86 251,-67 352,-67 352,-86\"/>\n<text text-anchor=\"middle\" x=\"301.5\" y=\"-74\" font-family=\"monospace\" font-size=\"10.00\">AddmmBackward0</text>\n</g>\n<!-- 139977904180336&#45;&gt;139977903596272 -->\n<g id=\"edge32\" class=\"edge\">\n<title>139977904180336&#45;&gt;139977903596272</title>\n<path fill=\"none\" stroke=\"black\" d=\"M301.5,-66.79C301.5,-60.07 301.5,-50.4 301.5,-41.34\"/>\n<polygon fill=\"black\" stroke=\"black\" points=\"305,-41.19 301.5,-31.19 298,-41.19 305,-41.19\"/>\n</g>\n<!-- 139977904180720 -->\n<g id=\"node3\" class=\"node\">\n<title>139977904180720</title>\n<polygon fill=\"lightgrey\" stroke=\"black\" points=\"236,-141 135,-141 135,-122 236,-122 236,-141\"/>\n<text text-anchor=\"middle\" x=\"185.5\" y=\"-129\" font-family=\"monospace\" font-size=\"10.00\">AccumulateGrad</text>\n</g>\n<!-- 139977904180720&#45;&gt;139977904180336 -->\n<g id=\"edge1\" class=\"edge\">\n<title>139977904180720&#45;&gt;139977904180336</title>\n<path fill=\"none\" stroke=\"black\" d=\"M204.14,-121.98C222.8,-113.46 251.75,-100.23 273.24,-90.41\"/>\n<polygon fill=\"black\" stroke=\"black\" points=\"274.88,-93.51 282.52,-86.17 271.97,-87.14 274.88,-93.51\"/>\n</g>\n<!-- 139977824824640 -->\n<g id=\"node4\" class=\"node\">\n<title>139977824824640</title>\n<polygon fill=\"lightblue\" stroke=\"black\" points=\"218,-207 153,-207 153,-177 218,-177 218,-207\"/>\n<text text-anchor=\"middle\" x=\"185.5\" y=\"-195\" font-family=\"monospace\" font-size=\"10.00\">fc2.bias</text>\n<text text-anchor=\"middle\" x=\"185.5\" y=\"-184\" font-family=\"monospace\" font-size=\"10.00\"> (2)</text>\n</g>\n<!-- 139977824824640&#45;&gt;139977904180720 -->\n<g id=\"edge2\" class=\"edge\">\n<title>139977824824640&#45;&gt;139977904180720</title>\n<path fill=\"none\" stroke=\"black\" d=\"M185.5,-176.84C185.5,-169.21 185.5,-159.7 185.5,-151.45\"/>\n<polygon fill=\"black\" stroke=\"black\" points=\"189,-151.27 185.5,-141.27 182,-151.27 189,-151.27\"/>\n</g>\n<!-- 139977904181872 -->\n<g id=\"node5\" class=\"node\">\n<title>139977904181872</title>\n<polygon fill=\"lightgrey\" stroke=\"black\" points=\"349,-141 254,-141 254,-122 349,-122 349,-141\"/>\n<text text-anchor=\"middle\" x=\"301.5\" y=\"-129\" font-family=\"monospace\" font-size=\"10.00\">ReluBackward0</text>\n</g>\n<!-- 139977904181872&#45;&gt;139977904180336 -->\n<g id=\"edge3\" class=\"edge\">\n<title>139977904181872&#45;&gt;139977904180336</title>\n<path fill=\"none\" stroke=\"black\" d=\"M301.5,-121.75C301.5,-114.8 301.5,-104.85 301.5,-96.13\"/>\n<polygon fill=\"black\" stroke=\"black\" points=\"305,-96.09 301.5,-86.09 298,-96.09 305,-96.09\"/>\n</g>\n<!-- 139977904181008 -->\n<g id=\"node6\" class=\"node\">\n<title>139977904181008</title>\n<polygon fill=\"lightgrey\" stroke=\"black\" points=\"344,-201.5 243,-201.5 243,-182.5 344,-182.5 344,-201.5\"/>\n<text text-anchor=\"middle\" x=\"293.5\" y=\"-189.5\" font-family=\"monospace\" font-size=\"10.00\">AddmmBackward0</text>\n</g>\n<!-- 139977904181008&#45;&gt;139977904181872 -->\n<g id=\"edge4\" class=\"edge\">\n<title>139977904181008&#45;&gt;139977904181872</title>\n<path fill=\"none\" stroke=\"black\" d=\"M294.68,-182.37C295.79,-174.25 297.49,-161.81 298.92,-151.39\"/>\n<polygon fill=\"black\" stroke=\"black\" points=\"302.43,-151.55 300.31,-141.17 295.49,-150.6 302.43,-151.55\"/>\n</g>\n<!-- 139977904181344 -->\n<g id=\"node7\" class=\"node\">\n<title>139977904181344</title>\n<polygon fill=\"lightgrey\" stroke=\"black\" points=\"208,-267.5 107,-267.5 107,-248.5 208,-248.5 208,-267.5\"/>\n<text text-anchor=\"middle\" x=\"157.5\" y=\"-255.5\" font-family=\"monospace\" font-size=\"10.00\">AccumulateGrad</text>\n</g>\n<!-- 139977904181344&#45;&gt;139977904181008 -->\n<g id=\"edge5\" class=\"edge\">\n<title>139977904181344&#45;&gt;139977904181008</title>\n<path fill=\"none\" stroke=\"black\" d=\"M175.84,-248.37C198.96,-237.49 238.91,-218.69 265.77,-206.05\"/>\n<polygon fill=\"black\" stroke=\"black\" points=\"267.46,-209.12 275.01,-201.7 264.48,-202.79 267.46,-209.12\"/>\n</g>\n<!-- 139977824821440 -->\n<g id=\"node8\" class=\"node\">\n<title>139977824821440</title>\n<polygon fill=\"lightblue\" stroke=\"black\" points=\"190,-339 125,-339 125,-309 190,-309 190,-339\"/>\n<text text-anchor=\"middle\" x=\"157.5\" y=\"-327\" font-family=\"monospace\" font-size=\"10.00\">fc1.bias</text>\n<text text-anchor=\"middle\" x=\"157.5\" y=\"-316\" font-family=\"monospace\" font-size=\"10.00\"> (128)</text>\n</g>\n<!-- 139977824821440&#45;&gt;139977904181344 -->\n<g id=\"edge6\" class=\"edge\">\n<title>139977824821440&#45;&gt;139977904181344</title>\n<path fill=\"none\" stroke=\"black\" d=\"M157.5,-308.8C157.5,-299.7 157.5,-287.79 157.5,-277.9\"/>\n<polygon fill=\"black\" stroke=\"black\" points=\"161,-277.84 157.5,-267.84 154,-277.84 161,-277.84\"/>\n</g>\n<!-- 139977904188400 -->\n<g id=\"node9\" class=\"node\">\n<title>139977904188400</title>\n<polygon fill=\"lightgrey\" stroke=\"black\" points=\"321,-267.5 226,-267.5 226,-248.5 321,-248.5 321,-267.5\"/>\n<text text-anchor=\"middle\" x=\"273.5\" y=\"-255.5\" font-family=\"monospace\" font-size=\"10.00\">ViewBackward0</text>\n</g>\n<!-- 139977904188400&#45;&gt;139977904181008 -->\n<g id=\"edge7\" class=\"edge\">\n<title>139977904188400&#45;&gt;139977904181008</title>\n<path fill=\"none\" stroke=\"black\" d=\"M276.2,-248.37C279.13,-238.97 283.92,-223.67 287.71,-211.53\"/>\n<polygon fill=\"black\" stroke=\"black\" points=\"291.07,-212.49 290.72,-201.91 284.39,-210.41 291.07,-212.49\"/>\n</g>\n<!-- 139977904180672 -->\n<g id=\"node10\" class=\"node\">\n<title>139977904180672</title>\n<polygon fill=\"lightgrey\" stroke=\"black\" points=\"325,-333.5 212,-333.5 212,-314.5 325,-314.5 325,-333.5\"/>\n<text text-anchor=\"middle\" x=\"268.5\" y=\"-321.5\" font-family=\"monospace\" font-size=\"10.00\">SqueezeBackward1</text>\n</g>\n<!-- 139977904180672&#45;&gt;139977904188400 -->\n<g id=\"edge8\" class=\"edge\">\n<title>139977904180672&#45;&gt;139977904188400</title>\n<path fill=\"none\" stroke=\"black\" d=\"M269.17,-314.37C269.9,-305.07 271.08,-289.98 272.02,-277.9\"/>\n<polygon fill=\"black\" stroke=\"black\" points=\"275.51,-278.15 272.8,-267.91 268.54,-277.6 275.51,-278.15\"/>\n</g>\n<!-- 139977904180624 -->\n<g id=\"node11\" class=\"node\">\n<title>139977904180624</title>\n<polygon fill=\"lightgrey\" stroke=\"black\" points=\"354,-399.5 163,-399.5 163,-380.5 354,-380.5 354,-399.5\"/>\n<text text-anchor=\"middle\" x=\"258.5\" y=\"-387.5\" font-family=\"monospace\" font-size=\"10.00\">MaxPool2DWithIndicesBackward0</text>\n</g>\n<!-- 139977904180624&#45;&gt;139977904180672 -->\n<g id=\"edge9\" class=\"edge\">\n<title>139977904180624&#45;&gt;139977904180672</title>\n<path fill=\"none\" stroke=\"black\" d=\"M259.85,-380.37C261.3,-371.07 263.66,-355.98 265.55,-343.9\"/>\n<polygon fill=\"black\" stroke=\"black\" points=\"269.02,-344.33 267.11,-333.91 262.11,-343.25 269.02,-344.33\"/>\n</g>\n<!-- 139977904180480 -->\n<g id=\"node12\" class=\"node\">\n<title>139977904180480</title>\n<polygon fill=\"lightgrey\" stroke=\"black\" points=\"321,-460 196,-460 196,-441 321,-441 321,-460\"/>\n<text text-anchor=\"middle\" x=\"258.5\" y=\"-448\" font-family=\"monospace\" font-size=\"10.00\">UnsqueezeBackward0</text>\n</g>\n<!-- 139977904180480&#45;&gt;139977904180624 -->\n<g id=\"edge10\" class=\"edge\">\n<title>139977904180480&#45;&gt;139977904180624</title>\n<path fill=\"none\" stroke=\"black\" d=\"M258.5,-440.87C258.5,-432.75 258.5,-420.31 258.5,-409.89\"/>\n<polygon fill=\"black\" stroke=\"black\" points=\"262,-409.67 258.5,-399.67 255,-409.67 262,-409.67\"/>\n</g>\n<!-- 139977904178992 -->\n<g id=\"node13\" class=\"node\">\n<title>139977904178992</title>\n<polygon fill=\"lightgrey\" stroke=\"black\" points=\"306,-515 211,-515 211,-496 306,-496 306,-515\"/>\n<text text-anchor=\"middle\" x=\"258.5\" y=\"-503\" font-family=\"monospace\" font-size=\"10.00\">ReluBackward0</text>\n</g>\n<!-- 139977904178992&#45;&gt;139977904180480 -->\n<g id=\"edge11\" class=\"edge\">\n<title>139977904178992&#45;&gt;139977904180480</title>\n<path fill=\"none\" stroke=\"black\" d=\"M258.5,-495.75C258.5,-488.8 258.5,-478.85 258.5,-470.13\"/>\n<polygon fill=\"black\" stroke=\"black\" points=\"262,-470.09 258.5,-460.09 255,-470.09 262,-470.09\"/>\n</g>\n<!-- 139977904178704 -->\n<g id=\"node14\" class=\"node\">\n<title>139977904178704</title>\n<polygon fill=\"lightgrey\" stroke=\"black\" points=\"327,-570 190,-570 190,-551 327,-551 327,-570\"/>\n<text text-anchor=\"middle\" x=\"258.5\" y=\"-558\" font-family=\"monospace\" font-size=\"10.00\">ConvolutionBackward0</text>\n</g>\n<!-- 139977904178704&#45;&gt;139977904178992 -->\n<g id=\"edge12\" class=\"edge\">\n<title>139977904178704&#45;&gt;139977904178992</title>\n<path fill=\"none\" stroke=\"black\" d=\"M258.5,-550.75C258.5,-543.8 258.5,-533.85 258.5,-525.13\"/>\n<polygon fill=\"black\" stroke=\"black\" points=\"262,-525.09 258.5,-515.09 255,-525.09 262,-525.09\"/>\n</g>\n<!-- 139977904191712 -->\n<g id=\"node15\" class=\"node\">\n<title>139977904191712</title>\n<polygon fill=\"lightgrey\" stroke=\"black\" points=\"178,-625 65,-625 65,-606 178,-606 178,-625\"/>\n<text text-anchor=\"middle\" x=\"121.5\" y=\"-613\" font-family=\"monospace\" font-size=\"10.00\">SqueezeBackward1</text>\n</g>\n<!-- 139977904191712&#45;&gt;139977904178704 -->\n<g id=\"edge13\" class=\"edge\">\n<title>139977904191712&#45;&gt;139977904178704</title>\n<path fill=\"none\" stroke=\"black\" d=\"M143.51,-605.98C165.95,-597.3 200.98,-583.75 226.49,-573.88\"/>\n<polygon fill=\"black\" stroke=\"black\" points=\"228.02,-577.04 236.09,-570.17 225.5,-570.51 228.02,-577.04\"/>\n</g>\n<!-- 139977904183936 -->\n<g id=\"node16\" class=\"node\">\n<title>139977904183936</title>\n<polygon fill=\"lightgrey\" stroke=\"black\" points=\"205,-685.5 14,-685.5 14,-666.5 205,-666.5 205,-685.5\"/>\n<text text-anchor=\"middle\" x=\"109.5\" y=\"-673.5\" font-family=\"monospace\" font-size=\"10.00\">MaxPool2DWithIndicesBackward0</text>\n</g>\n<!-- 139977904183936&#45;&gt;139977904191712 -->\n<g id=\"edge14\" class=\"edge\">\n<title>139977904183936&#45;&gt;139977904191712</title>\n<path fill=\"none\" stroke=\"black\" d=\"M111.27,-666.37C112.95,-658.16 115.54,-645.54 117.69,-635.05\"/>\n<polygon fill=\"black\" stroke=\"black\" points=\"121.14,-635.67 119.72,-625.17 114.28,-634.26 121.14,-635.67\"/>\n</g>\n<!-- 139977904189552 -->\n<g id=\"node17\" class=\"node\">\n<title>139977904189552</title>\n<polygon fill=\"lightgrey\" stroke=\"black\" points=\"172,-746 47,-746 47,-727 172,-727 172,-746\"/>\n<text text-anchor=\"middle\" x=\"109.5\" y=\"-734\" font-family=\"monospace\" font-size=\"10.00\">UnsqueezeBackward0</text>\n</g>\n<!-- 139977904189552&#45;&gt;139977904183936 -->\n<g id=\"edge15\" class=\"edge\">\n<title>139977904189552&#45;&gt;139977904183936</title>\n<path fill=\"none\" stroke=\"black\" d=\"M109.5,-726.87C109.5,-718.75 109.5,-706.31 109.5,-695.89\"/>\n<polygon fill=\"black\" stroke=\"black\" points=\"113,-695.67 109.5,-685.67 106,-695.67 113,-695.67\"/>\n</g>\n<!-- 139977904179328 -->\n<g id=\"node18\" class=\"node\">\n<title>139977904179328</title>\n<polygon fill=\"lightgrey\" stroke=\"black\" points=\"157,-801 62,-801 62,-782 157,-782 157,-801\"/>\n<text text-anchor=\"middle\" x=\"109.5\" y=\"-789\" font-family=\"monospace\" font-size=\"10.00\">ReluBackward0</text>\n</g>\n<!-- 139977904179328&#45;&gt;139977904189552 -->\n<g id=\"edge16\" class=\"edge\">\n<title>139977904179328&#45;&gt;139977904189552</title>\n<path fill=\"none\" stroke=\"black\" d=\"M109.5,-781.75C109.5,-774.8 109.5,-764.85 109.5,-756.13\"/>\n<polygon fill=\"black\" stroke=\"black\" points=\"113,-756.09 109.5,-746.09 106,-756.09 113,-756.09\"/>\n</g>\n<!-- 139977904183744 -->\n<g id=\"node19\" class=\"node\">\n<title>139977904183744</title>\n<polygon fill=\"lightgrey\" stroke=\"black\" points=\"178,-856 41,-856 41,-837 178,-837 178,-856\"/>\n<text text-anchor=\"middle\" x=\"109.5\" y=\"-844\" font-family=\"monospace\" font-size=\"10.00\">ConvolutionBackward0</text>\n</g>\n<!-- 139977904183744&#45;&gt;139977904179328 -->\n<g id=\"edge17\" class=\"edge\">\n<title>139977904183744&#45;&gt;139977904179328</title>\n<path fill=\"none\" stroke=\"black\" d=\"M109.5,-836.75C109.5,-829.8 109.5,-819.85 109.5,-811.13\"/>\n<polygon fill=\"black\" stroke=\"black\" points=\"113,-811.09 109.5,-801.09 106,-811.09 113,-811.09\"/>\n</g>\n<!-- 139977904184128 -->\n<g id=\"node20\" class=\"node\">\n<title>139977904184128</title>\n<polygon fill=\"lightgrey\" stroke=\"black\" points=\"101,-911 0,-911 0,-892 101,-892 101,-911\"/>\n<text text-anchor=\"middle\" x=\"50.5\" y=\"-899\" font-family=\"monospace\" font-size=\"10.00\">AccumulateGrad</text>\n</g>\n<!-- 139977904184128&#45;&gt;139977904183744 -->\n<g id=\"edge18\" class=\"edge\">\n<title>139977904184128&#45;&gt;139977904183744</title>\n<path fill=\"none\" stroke=\"black\" d=\"M59.98,-891.98C68.7,-884.15 81.84,-872.34 92.4,-862.86\"/>\n<polygon fill=\"black\" stroke=\"black\" points=\"94.75,-865.46 99.85,-856.17 90.07,-860.25 94.75,-865.46\"/>\n</g>\n<!-- 139981518546688 -->\n<g id=\"node21\" class=\"node\">\n<title>139981518546688</title>\n<polygon fill=\"lightblue\" stroke=\"black\" points=\"95,-977 6,-977 6,-947 95,-947 95,-977\"/>\n<text text-anchor=\"middle\" x=\"50.5\" y=\"-965\" font-family=\"monospace\" font-size=\"10.00\">conv1.weight</text>\n<text text-anchor=\"middle\" x=\"50.5\" y=\"-954\" font-family=\"monospace\" font-size=\"10.00\"> (16, 1, 3)</text>\n</g>\n<!-- 139981518546688&#45;&gt;139977904184128 -->\n<g id=\"edge19\" class=\"edge\">\n<title>139981518546688&#45;&gt;139977904184128</title>\n<path fill=\"none\" stroke=\"black\" d=\"M50.5,-946.84C50.5,-939.21 50.5,-929.7 50.5,-921.45\"/>\n<polygon fill=\"black\" stroke=\"black\" points=\"54,-921.27 50.5,-911.27 47,-921.27 54,-921.27\"/>\n</g>\n<!-- 139977904183408 -->\n<g id=\"node22\" class=\"node\">\n<title>139977904183408</title>\n<polygon fill=\"lightgrey\" stroke=\"black\" points=\"220,-911 119,-911 119,-892 220,-892 220,-911\"/>\n<text text-anchor=\"middle\" x=\"169.5\" y=\"-899\" font-family=\"monospace\" font-size=\"10.00\">AccumulateGrad</text>\n</g>\n<!-- 139977904183408&#45;&gt;139977904183744 -->\n<g id=\"edge20\" class=\"edge\">\n<title>139977904183408&#45;&gt;139977904183744</title>\n<path fill=\"none\" stroke=\"black\" d=\"M159.86,-891.98C150.99,-884.15 137.63,-872.34 126.89,-862.86\"/>\n<polygon fill=\"black\" stroke=\"black\" points=\"129.13,-860.17 119.32,-856.17 124.49,-865.41 129.13,-860.17\"/>\n</g>\n<!-- 139977824820320 -->\n<g id=\"node23\" class=\"node\">\n<title>139977824820320</title>\n<polygon fill=\"lightblue\" stroke=\"black\" points=\"208,-977 131,-977 131,-947 208,-947 208,-977\"/>\n<text text-anchor=\"middle\" x=\"169.5\" y=\"-965\" font-family=\"monospace\" font-size=\"10.00\">conv1.bias</text>\n<text text-anchor=\"middle\" x=\"169.5\" y=\"-954\" font-family=\"monospace\" font-size=\"10.00\"> (16)</text>\n</g>\n<!-- 139977824820320&#45;&gt;139977904183408 -->\n<g id=\"edge21\" class=\"edge\">\n<title>139977824820320&#45;&gt;139977904183408</title>\n<path fill=\"none\" stroke=\"black\" d=\"M169.5,-946.84C169.5,-939.21 169.5,-929.7 169.5,-921.45\"/>\n<polygon fill=\"black\" stroke=\"black\" points=\"173,-921.27 169.5,-911.27 166,-921.27 173,-921.27\"/>\n</g>\n<!-- 139977904178656 -->\n<g id=\"node24\" class=\"node\">\n<title>139977904178656</title>\n<polygon fill=\"lightgrey\" stroke=\"black\" points=\"309,-625 208,-625 208,-606 309,-606 309,-625\"/>\n<text text-anchor=\"middle\" x=\"258.5\" y=\"-613\" font-family=\"monospace\" font-size=\"10.00\">AccumulateGrad</text>\n</g>\n<!-- 139977904178656&#45;&gt;139977904178704 -->\n<g id=\"edge22\" class=\"edge\">\n<title>139977904178656&#45;&gt;139977904178704</title>\n<path fill=\"none\" stroke=\"black\" d=\"M258.5,-605.75C258.5,-598.8 258.5,-588.85 258.5,-580.13\"/>\n<polygon fill=\"black\" stroke=\"black\" points=\"262,-580.09 258.5,-570.09 255,-580.09 262,-580.09\"/>\n</g>\n<!-- 139981518545648 -->\n<g id=\"node25\" class=\"node\">\n<title>139981518545648</title>\n<polygon fill=\"lightblue\" stroke=\"black\" points=\"312,-691 223,-691 223,-661 312,-661 312,-691\"/>\n<text text-anchor=\"middle\" x=\"267.5\" y=\"-679\" font-family=\"monospace\" font-size=\"10.00\">conv2.weight</text>\n<text text-anchor=\"middle\" x=\"267.5\" y=\"-668\" font-family=\"monospace\" font-size=\"10.00\"> (32, 16, 3)</text>\n</g>\n<!-- 139981518545648&#45;&gt;139977904178656 -->\n<g id=\"edge23\" class=\"edge\">\n<title>139981518545648&#45;&gt;139977904178656</title>\n<path fill=\"none\" stroke=\"black\" d=\"M265.32,-660.84C264.13,-653.13 262.65,-643.49 261.37,-635.17\"/>\n<polygon fill=\"black\" stroke=\"black\" points=\"264.83,-634.62 259.85,-625.27 257.91,-635.68 264.83,-634.62\"/>\n</g>\n<!-- 139977904180816 -->\n<g id=\"node26\" class=\"node\">\n<title>139977904180816</title>\n<polygon fill=\"lightgrey\" stroke=\"black\" points=\"428,-625 327,-625 327,-606 428,-606 428,-625\"/>\n<text text-anchor=\"middle\" x=\"377.5\" y=\"-613\" font-family=\"monospace\" font-size=\"10.00\">AccumulateGrad</text>\n</g>\n<!-- 139977904180816&#45;&gt;139977904178704 -->\n<g id=\"edge24\" class=\"edge\">\n<title>139977904180816&#45;&gt;139977904178704</title>\n<path fill=\"none\" stroke=\"black\" d=\"M358.38,-605.98C339.15,-597.42 309.27,-584.11 287.19,-574.28\"/>\n<polygon fill=\"black\" stroke=\"black\" points=\"288.53,-571.04 277.97,-570.17 285.68,-577.44 288.53,-571.04\"/>\n</g>\n<!-- 139977824816160 -->\n<g id=\"node27\" class=\"node\">\n<title>139977824816160</title>\n<polygon fill=\"lightblue\" stroke=\"black\" points=\"416,-691 339,-691 339,-661 416,-661 416,-691\"/>\n<text text-anchor=\"middle\" x=\"377.5\" y=\"-679\" font-family=\"monospace\" font-size=\"10.00\">conv2.bias</text>\n<text text-anchor=\"middle\" x=\"377.5\" y=\"-668\" font-family=\"monospace\" font-size=\"10.00\"> (32)</text>\n</g>\n<!-- 139977824816160&#45;&gt;139977904180816 -->\n<g id=\"edge25\" class=\"edge\">\n<title>139977824816160&#45;&gt;139977904180816</title>\n<path fill=\"none\" stroke=\"black\" d=\"M377.5,-660.84C377.5,-653.21 377.5,-643.7 377.5,-635.45\"/>\n<polygon fill=\"black\" stroke=\"black\" points=\"381,-635.27 377.5,-625.27 374,-635.27 381,-635.27\"/>\n</g>\n<!-- 139977904181440 -->\n<g id=\"node28\" class=\"node\">\n<title>139977904181440</title>\n<polygon fill=\"lightgrey\" stroke=\"black\" points=\"416,-267.5 339,-267.5 339,-248.5 416,-248.5 416,-267.5\"/>\n<text text-anchor=\"middle\" x=\"377.5\" y=\"-255.5\" font-family=\"monospace\" font-size=\"10.00\">TBackward0</text>\n</g>\n<!-- 139977904181440&#45;&gt;139977904181008 -->\n<g id=\"edge26\" class=\"edge\">\n<title>139977904181440&#45;&gt;139977904181008</title>\n<path fill=\"none\" stroke=\"black\" d=\"M366.17,-248.37C352.64,-238.06 329.78,-220.65 313.31,-208.09\"/>\n<polygon fill=\"black\" stroke=\"black\" points=\"314.99,-204.98 304.92,-201.7 310.75,-210.54 314.99,-204.98\"/>\n</g>\n<!-- 139977904180576 -->\n<g id=\"node29\" class=\"node\">\n<title>139977904180576</title>\n<polygon fill=\"lightgrey\" stroke=\"black\" points=\"454,-333.5 353,-333.5 353,-314.5 454,-314.5 454,-333.5\"/>\n<text text-anchor=\"middle\" x=\"403.5\" y=\"-321.5\" font-family=\"monospace\" font-size=\"10.00\">AccumulateGrad</text>\n</g>\n<!-- 139977904180576&#45;&gt;139977904181440 -->\n<g id=\"edge27\" class=\"edge\">\n<title>139977904180576&#45;&gt;139977904181440</title>\n<path fill=\"none\" stroke=\"black\" d=\"M399.99,-314.37C396.18,-304.97 389.96,-289.67 385.03,-277.53\"/>\n<polygon fill=\"black\" stroke=\"black\" points=\"388.12,-275.85 381.12,-267.91 381.64,-278.49 388.12,-275.85\"/>\n</g>\n<!-- 139977824823120 -->\n<g id=\"node30\" class=\"node\">\n<title>139977824823120</title>\n<polygon fill=\"lightblue\" stroke=\"black\" points=\"473,-405 372,-405 372,-375 473,-375 473,-405\"/>\n<text text-anchor=\"middle\" x=\"422.5\" y=\"-393\" font-family=\"monospace\" font-size=\"10.00\">fc1.weight</text>\n<text text-anchor=\"middle\" x=\"422.5\" y=\"-382\" font-family=\"monospace\" font-size=\"10.00\"> (128, 131072)</text>\n</g>\n<!-- 139977824823120&#45;&gt;139977904180576 -->\n<g id=\"edge28\" class=\"edge\">\n<title>139977824823120&#45;&gt;139977904180576</title>\n<path fill=\"none\" stroke=\"black\" d=\"M418.28,-374.8C415.55,-365.6 411.97,-353.53 409.02,-343.58\"/>\n<polygon fill=\"black\" stroke=\"black\" points=\"412.33,-342.43 406.13,-333.84 405.62,-344.43 412.33,-342.43\"/>\n</g>\n<!-- 139977904180096 -->\n<g id=\"node31\" class=\"node\">\n<title>139977904180096</title>\n<polygon fill=\"lightgrey\" stroke=\"black\" points=\"467,-141 390,-141 390,-122 467,-122 467,-141\"/>\n<text text-anchor=\"middle\" x=\"428.5\" y=\"-129\" font-family=\"monospace\" font-size=\"10.00\">TBackward0</text>\n</g>\n<!-- 139977904180096&#45;&gt;139977904180336 -->\n<g id=\"edge29\" class=\"edge\">\n<title>139977904180096&#45;&gt;139977904180336</title>\n<path fill=\"none\" stroke=\"black\" d=\"M408.1,-121.98C387.48,-113.38 355.39,-99.99 331.81,-90.15\"/>\n<polygon fill=\"black\" stroke=\"black\" points=\"332.85,-86.79 322.28,-86.17 330.16,-93.25 332.85,-86.79\"/>\n</g>\n<!-- 139977904180864 -->\n<g id=\"node32\" class=\"node\">\n<title>139977904180864</title>\n<polygon fill=\"lightgrey\" stroke=\"black\" points=\"503,-201.5 402,-201.5 402,-182.5 503,-182.5 503,-201.5\"/>\n<text text-anchor=\"middle\" x=\"452.5\" y=\"-189.5\" font-family=\"monospace\" font-size=\"10.00\">AccumulateGrad</text>\n</g>\n<!-- 139977904180864&#45;&gt;139977904180096 -->\n<g id=\"edge30\" class=\"edge\">\n<title>139977904180864&#45;&gt;139977904180096</title>\n<path fill=\"none\" stroke=\"black\" d=\"M448.96,-182.37C445.56,-174.07 440.31,-161.28 435.98,-150.72\"/>\n<polygon fill=\"black\" stroke=\"black\" points=\"439.09,-149.09 432.06,-141.17 432.61,-151.75 439.09,-149.09\"/>\n</g>\n<!-- 139977824823360 -->\n<g id=\"node33\" class=\"node\">\n<title>139977824823360</title>\n<polygon fill=\"lightblue\" stroke=\"black\" points=\"511,-273 434,-273 434,-243 511,-243 511,-273\"/>\n<text text-anchor=\"middle\" x=\"472.5\" y=\"-261\" font-family=\"monospace\" font-size=\"10.00\">fc2.weight</text>\n<text text-anchor=\"middle\" x=\"472.5\" y=\"-250\" font-family=\"monospace\" font-size=\"10.00\"> (2, 128)</text>\n</g>\n<!-- 139977824823360&#45;&gt;139977904180864 -->\n<g id=\"edge31\" class=\"edge\">\n<title>139977824823360&#45;&gt;139977904180864</title>\n<path fill=\"none\" stroke=\"black\" d=\"M468.06,-242.8C465.19,-233.6 461.42,-221.53 458.31,-211.58\"/>\n<polygon fill=\"black\" stroke=\"black\" points=\"461.59,-210.35 455.26,-201.84 454.91,-212.43 461.59,-210.35\"/>\n</g>\n</g>\n</svg>\n",
            "text/plain": [
              "<graphviz.graphs.Digraph at 0x7f4f254bba90>"
            ]
          },
          "metadata": {},
          "execution_count": 6
        }
      ]
    },
    {
      "cell_type": "code",
      "source": [
        "import random # import the random module\n",
        "\n",
        "\n",
        "# Seed for Python's built-in random module\n",
        "random.seed(18014519)\n",
        "# Seed for NumPy\n",
        "np.random.seed(18014519)\n",
        "# Seed for PyTorch CPU operations\n",
        "torch.manual_seed(18014519)\n",
        "\n",
        "\n",
        "transform = transforms.Compose([\n",
        "    transforms.Resize((128, 128)),\n",
        "    transforms.ToTensor(),\n",
        "])\n",
        "\n",
        "\n",
        "root_dir = '/content/drive/MyDrive/SPC_Charts'\n",
        "\n",
        "\n",
        "full_dataset = datasets.ImageFolder(root=root_dir, transform=transform)\n",
        "\n",
        "\n",
        "train_size = int(0.4 * len(full_dataset))  # 40% for training\n",
        "test_size = len(full_dataset) - train_size  # 60% for testing\n",
        "\n",
        "# Perform the train-test split\n",
        "train_dataset, test_dataset = random_split(full_dataset, [train_size, test_size])\n",
        "\n",
        "\n",
        "train_loader = DataLoader(train_dataset, batch_size=32, shuffle=True)\n",
        "test_loader = DataLoader(test_dataset, batch_size=32, shuffle=True)\n",
        "\n",
        "\n",
        "class ControlChartCNN(nn.Module):\n",
        "    def __init__(self, num_classes=2):\n",
        "        super(ControlChartCNN, self).__init__()\n",
        "        self.conv1 = nn.Conv2d(3, 32, kernel_size=3, stride=1, padding=1)\n",
        "        self.conv2 = nn.Conv2d(32, 64, kernel_size=3, stride=1, padding=1)\n",
        "        self.pool = nn.MaxPool2d(kernel_size=2, stride=2, padding=0)\n",
        "        self.fc1 = nn.Linear(64 * 32 * 32, 128)\n",
        "        self.fc2 = nn.Linear(128, num_classes)\n",
        "\n",
        "    def forward(self, x):\n",
        "        x = self.pool(F.relu(self.conv1(x)))\n",
        "        x = self.pool(F.relu(self.conv2(x)))\n",
        "        x = x.view(-1, 64 * 32 * 32)\n",
        "        x = F.relu(self.fc1(x))\n",
        "        x = self.fc2(x)\n",
        "        return x\n",
        "\n",
        "\n",
        "device = torch.device(\"cuda\" if torch.cuda.is_available() else \"cpu\")\n",
        "model2 = ControlChartCNN(num_classes=2).to(device)\n",
        "\n",
        "\n",
        "criterion = nn.CrossEntropyLoss()\n",
        "optimizer = optim.Adam(model2.parameters(), lr=0.001)\n",
        "\n",
        "\n",
        "num_epochs = 5\n",
        "for epoch in range(num_epochs):\n",
        "    model2.train()\n",
        "    running_loss = 0.0\n",
        "\n",
        "    for images, labels in train_loader:\n",
        "        images, labels = images.to(device), labels.to(device)\n",
        "\n",
        "\n",
        "        outputs = model2(images)\n",
        "        loss = criterion(outputs, labels)\n",
        "\n",
        "\n",
        "        optimizer.zero_grad()\n",
        "        loss.backward()\n",
        "        optimizer.step()\n",
        "\n",
        "        running_loss += loss.item()\n",
        "\n",
        "    print(f'Epoch [{epoch+1}/{num_epochs}], Loss: {running_loss/len(train_loader):.4f}')\n",
        "\n",
        "print(\"Training complete.\")\n",
        "\n",
        "\n",
        "model_eval= model2.eval()\n",
        "all_labels = []\n",
        "all_preds = []\n",
        "\n",
        "with torch.no_grad():\n",
        "    for images, labels in test_loader:\n",
        "        images, labels = images.to(device), labels.to(device)\n",
        "\n",
        "\n",
        "        outputs = model2(images)\n",
        "        _, preds = torch.max(outputs, 1)\n",
        "\n",
        "        all_labels.extend(labels.cpu().numpy())\n",
        "        all_preds.extend(preds.cpu().numpy())\n",
        "\n",
        "\n",
        "accuracy = accuracy_score(all_labels, all_preds)\n",
        "precision = precision_score(all_labels, all_preds, average='weighted')\n",
        "recall = recall_score(all_labels, all_preds, average='weighted')\n",
        "f1 = f1_score(all_labels, all_preds, average='weighted')\n",
        "conf_matrix = confusion_matrix(all_labels, all_preds)\n",
        "\n",
        "print(f'Accuracy: {accuracy:.4f}')\n",
        "print(f'Precision: {precision:.4f}')\n",
        "print(f'Recall: {recall:.4f}')\n",
        "print(f'F1 Score: {f1:.4f}')\n",
        "print(\"Confusion Matrix:\")\n",
        "print(conf_matrix)\n"
      ],
      "metadata": {
        "colab": {
          "base_uri": "https://localhost:8080/"
        },
        "id": "1G55I41qgkOg",
        "outputId": "7328046a-52a5-49e8-b66a-7b7fef050442"
      },
      "execution_count": 8,
      "outputs": [
        {
          "output_type": "stream",
          "name": "stdout",
          "text": [
            "Epoch [1/5], Loss: 0.7384\n",
            "Epoch [2/5], Loss: 0.0298\n",
            "Epoch [3/5], Loss: 0.0340\n",
            "Epoch [4/5], Loss: 0.0263\n",
            "Epoch [5/5], Loss: 0.0215\n",
            "Training complete.\n",
            "Accuracy: 0.9886\n",
            "Precision: 0.9888\n",
            "Recall: 0.9886\n",
            "F1 Score: 0.9886\n",
            "Confusion Matrix:\n",
            "[[636   2]\n",
            " [ 13 668]]\n"
          ]
        }
      ]
    },
    {
      "cell_type": "code",
      "source": [
        "\n",
        "\n",
        "# Assuming 'model' is your trained ControlChartCNN model\n",
        "# and 'images' is a sample input tensor from your test_loader\n",
        "\n",
        "# Get a sample input\n",
        "images, labels = next(iter(test_loader))\n",
        "images = images.to(device)\n",
        "\n",
        "# Create the visualization\n",
        "torchviz.make_dot(model2(images), params=dict(model2.named_parameters()))"
      ],
      "metadata": {
        "id": "2nkm-4lLhPlz"
      },
      "execution_count": null,
      "outputs": []
    },
    {
      "cell_type": "code",
      "source": [],
      "metadata": {
        "id": "mxgMoQY_k0Hd"
      },
      "execution_count": null,
      "outputs": []
    }
  ]
}